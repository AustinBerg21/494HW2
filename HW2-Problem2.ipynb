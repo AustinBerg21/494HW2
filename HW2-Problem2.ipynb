{
 "cells": [
  {
   "cell_type": "code",
   "execution_count": 2,
   "id": "1678b98a",
   "metadata": {},
   "outputs": [],
   "source": [
    "import numpy as np\n",
    "import scipy as sp\n",
    "import matplotlib.pyplot as plt"
   ]
  },
  {
   "cell_type": "code",
   "execution_count": 3,
   "id": "dad0957c",
   "metadata": {},
   "outputs": [],
   "source": [
    "def f(x):                              # unconstrained function\n",
    "    x2 = x[0]\n",
    "    x3 = x[1]\n",
    "    return (2-2*x2-3*x3)**2+x2**2+(x3-1)**2\n",
    "\n",
    "def g(x):                                       # gradient\n",
    "    return np.array([10*x[0]+12*x[1]-8, 20*x[1]+12*x[0]-14])\n",
    "\n",
    "x0 = np.array([1,2])\n",
    "t = .5"
   ]
  },
  {
   "cell_type": "code",
   "execution_count": 4,
   "id": "643679b0",
   "metadata": {},
   "outputs": [],
   "source": [
    "def inexact_linesearch(x,alpha):                     # inexact line search function to get alpha step for grad descent\n",
    "    phi = f(x) - t*g(x).T @ g(x)*alpha\n",
    "    if (f(x-alpha*g(x)) > phi):\n",
    "        alpha = alpha*.5\n",
    "        return inexact_linesearch(x,alpha)\n",
    "    else:\n",
    "        return alpha"
   ]
  },
  {
   "cell_type": "code",
   "execution_count": 5,
   "id": "ecc9ff12",
   "metadata": {},
   "outputs": [],
   "source": [
    "t = .5\n",
    "xk_list_grad = [x0]                              # initialie stored x\n",
    "k = 0\n",
    "\n",
    "while (np.linalg.norm(g(xk_list_grad[k])) > .000001):           # Gradient descent steps\n",
    "    old = xk_list_grad[k]\n",
    "    alpha = 1\n",
    "    alpha = inexact_linesearch(old, alpha)\n",
    "    new = old - alpha*g(old)\n",
    "    xk_list_grad.append(new)\n",
    "    k = k+1\n",
    "    \n"
   ]
  },
  {
   "cell_type": "code",
   "execution_count": 6,
   "id": "b78bf0ed",
   "metadata": {},
   "outputs": [
    {
     "name": "stdout",
     "output_type": "stream",
     "text": [
      "Guess for x2 and x3:[1 2]\n",
      "Iterations: 53\n",
      "x1 = -1.0714285338571123\n",
      "x2 = -0.14285687959669774\n",
      "x3 = 0.7857140976835026\n"
     ]
    }
   ],
   "source": [
    "xx = xk_list_grad[len(xk_list_grad)-1]                    # get final values\n",
    "\n",
    "x2g = xx[0]                                                          \n",
    "x3g = xx[1]\n",
    "x1g = 1 - 2*x2g - 3*x3g\n",
    "\n",
    "print(\"Guess for x2 and x3:\" + str(x0))\n",
    "print(\"Iterations: \" + str(len(xk_list_grad)-1))  \n",
    "print(\"x1 = \" + str(x1g))                                               \n",
    "print(\"x2 = \" + str(x2g))\n",
    "print(\"x3 = \" + str(x3g))"
   ]
  },
  {
   "cell_type": "code",
   "execution_count": 7,
   "id": "43de8543",
   "metadata": {},
   "outputs": [],
   "source": [
    "def Hess(x):\n",
    "    H = np.zeros((2,2))\n",
    "    H[0,0] = 10\n",
    "    H[0,1] = 12\n",
    "    H[1,0] = 12\n",
    "    H[1,1] = 20\n",
    "    return H"
   ]
  },
  {
   "cell_type": "code",
   "execution_count": 8,
   "id": "7f547b81",
   "metadata": {},
   "outputs": [],
   "source": [
    "xk_list_newt = [x0]\n",
    "k = 0\n",
    "alpha = 1\n",
    "while (np.linalg.norm(g(xk_list_newt[k])) > 0.000001):       \n",
    "    old = xk_list_grad[k]                                                          \n",
    "    new = old - alpha*np.linalg.solve(Hess(old),g(old))         # old - H                                               \n",
    "    xk_list_newt.append(new)                                      \n",
    "    k += 1                  "
   ]
  },
  {
   "cell_type": "code",
   "execution_count": 9,
   "id": "2cfa2cad",
   "metadata": {},
   "outputs": [
    {
     "name": "stdout",
     "output_type": "stream",
     "text": [
      "Guess for x2 and x3:[1 2]\n",
      "Iterations: 1\n",
      "x1 = -1.0714285338571123\n",
      "x2 = -0.14285714285714302\n",
      "x3 = 0.7857142857142858\n"
     ]
    }
   ],
   "source": [
    "xx = xk_list_newt[len(xk_list_newt)-1]                    # get final values\n",
    "\n",
    "x2n = xx[0]                                                          \n",
    "x3n = xx[1]\n",
    "x1n = 1 - 2*x2g - 3*x3g\n",
    "\n",
    "print(\"Guess for x2 and x3:\" + str(x0))\n",
    "print(\"Iterations: \" + str(len(xk_list_newt)-1))  \n",
    "print(\"x1 = \" + str(x1n))                                               \n",
    "print(\"x2 = \" + str(x2n))\n",
    "print(\"x3 = \" + str(x3n))"
   ]
  },
  {
   "cell_type": "code",
   "execution_count": 13,
   "id": "ea105c90",
   "metadata": {},
   "outputs": [
    {
     "data": {
      "image/png": "[encoded data removed]",
      "text/plain": [
       "<Figure size 432x288 with 1 Axes>"
      ]
     },
     "metadata": {
      "needs_background": "light"
     },
     "output_type": "display_data"
    }
   ],
   "source": [
    "x = np.array([-1/7, 11/14])                 # exact solution x value\n",
    "norm_of_err = []                              # list to be plotted\n",
    "\n",
    "for f in xk_list_grad:                     # log (f-f*) \n",
    "    err = np.linalg.norm(f - x)\n",
    "    norm_of_err.append(n_of_e)\n",
    "    \n",
    "t = np.arange(1,len(xk_list_grad)+1)       # iterations to plot\n",
    "\n",
    "plt.plot(t,norm_of_err,label='Gradient')      # plot gradient \n",
    "\n",
    "plt.yscale('log')                               # make log-linear\n",
    "plt.title('Grad Descent Convergence')\n",
    "plt.xlabel('Iterations')\n",
    "plt.ylabel('norm of error in log scale')\n",
    "plt.show()                                     "
   ]
  },
  {
   "cell_type": "code",
   "execution_count": null,
   "id": "db4f8714",
   "metadata": {},
   "outputs": [],
   "source": []
  },
  {
   "cell_type": "code",
   "execution_count": null,
   "id": "7c9d8f13",
   "metadata": {},
   "outputs": [],
   "source": []
  }
 ],
 "metadata": {
  "kernelspec": {
   "display_name": "Python 3 (ipykernel)",
   "language": "python",
   "name": "python3"
  },
  "language_info": {
   "codemirror_mode": {
    "name": "ipython",
    "version": 3
   },
   "file_extension": ".py",
   "mimetype": "text/x-python",
   "name": "python",
   "nbconvert_exporter": "python",
   "pygments_lexer": "ipython3",
   "version": "3.9.12"
  }
 },
 "nbformat": 4,
 "nbformat_minor": 5
}
